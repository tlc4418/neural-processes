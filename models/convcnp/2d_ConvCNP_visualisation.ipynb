{
  "cells": [
    {
      "cell_type": "code",
      "execution_count": 1,
      "metadata": {
        "id": "D1xQedN9zLXk",
        "colab": {
          "base_uri": "https://localhost:8080/"
        },
        "outputId": "8af2aeb6-ddbd-435a-bcb6-c77f39465dd8"
      },
      "outputs": [
        {
          "output_type": "stream",
          "name": "stdout",
          "text": [
            "Mounted at /content/drive\n",
            "/content/drive/MyDrive/neural-processes-main\n",
            "cuda\n"
          ]
        }
      ],
      "source": [
        "import os\n",
        "# os.chdir(\"..\\..\")\n",
        "from google.colab import drive \n",
        "drive.mount('/content/drive')\n",
        "%cd /content/drive/MyDrive/neural-processes-main\n",
        "import torch\n",
        "import numpy as np\n",
        "import torchvision\n",
        "from torch.utils.data import DataLoader\n",
        "from torchvision import datasets, transforms\n",
        "from models.convcnp import GridConvCNP, train_2d\n",
        "import matplotlib.pyplot as plt"
      ]
    },
    {
      "cell_type": "code",
      "source": [
        "trainset_mnist = datasets.MNIST(root='./data', train=True, download=True, transform=transforms.Compose([transforms.Resize(32), transforms.ToTensor()]))\n",
        "test_mnist = datasets.MNIST(root='./data', train=False, download=True, transform=transforms.Compose([transforms.Resize(32), transforms.ToTensor()]))\n"
      ],
      "metadata": {
        "id": "pEhkF24Dz9B1"
      },
      "execution_count": 2,
      "outputs": []
    },
    {
      "cell_type": "code",
      "source": [
        "train_mnist, val_mnist = torch.utils.data.random_split(trainset_mnist, [54000, 6000], generator=torch.Generator().manual_seed(1))"
      ],
      "metadata": {
        "id": "omkajA7W2xIf"
      },
      "execution_count": 3,
      "outputs": []
    },
    {
      "cell_type": "code",
      "source": [
        "train_mnist_loader = DataLoader(dataset=train_mnist, shuffle=True, batch_size=32)\n",
        "val_mnist_loader = DataLoader(dataset=val_mnist, shuffle=False, batch_size=32)\n",
        "test_mnist_loader = DataLoader(dataset=test_mnist, shuffle=False, batch_size=32)\n"
      ],
      "metadata": {
        "id": "UdKPj0C14i_k"
      },
      "execution_count": 4,
      "outputs": []
    },
    {
      "cell_type": "code",
      "source": [
        "ConvCNP_mnist = GridConvCNP(1,1,11,9,5,2,128,4)\n",
        "best_ConvCNP_mnist_path=train_2d(model = ConvCNP_mnist, model_name = \"ConvCNP_2d_MNIST\", train_loader=train_mnist_loader, \n",
        "                val_loader = val_mnist_loader, a = 0.0, b= 0.3, epochs=10, report_interval=100)"
      ],
      "metadata": {
        "id": "tnlSfASZ6EqJ",
        "colab": {
          "base_uri": "https://localhost:8080/",
          "height": 1000
        },
        "outputId": "2c2a3933-244b-47fe-f511-2bc12bf93464"
      },
      "execution_count": 5,
      "outputs": [
        {
          "output_type": "stream",
          "name": "stdout",
          "text": [
            "Using device: cuda\n",
            "EPOCH 1:\n",
            "  batch 100 loss: -0.41949067284353075\n",
            "  batch 200 loss: -0.9569947864115238\n",
            "  batch 300 loss: -1.515671231597662\n",
            "  batch 400 loss: -1.507757057249546\n",
            "  batch 500 loss: -1.8313532544672488\n",
            "  batch 600 loss: -1.6550606615841388\n",
            "  batch 700 loss: -1.939956991672516\n",
            "  batch 800 loss: -1.9354034292697906\n",
            "  batch 900 loss: -2.0550619733333586\n",
            "  batch 1000 loss: -2.0652654469013214\n",
            "  batch 1100 loss: -2.081205362677574\n",
            "  batch 1200 loss: -2.1383792579174044\n",
            "  batch 1300 loss: -2.0540052282810213\n",
            "  batch 1400 loss: -2.179243450164795\n",
            "  batch 1500 loss: -2.1790587386488913\n",
            "  batch 1600 loss: -2.062986842393875\n",
            "LOSS train -2.06299 valid -1.98017\n",
            "EPOCH 2:\n",
            "  batch 100 loss: -2.1360696509480475\n",
            "  batch 200 loss: -2.2116644269227983\n",
            "  batch 300 loss: -2.2287100088596343\n",
            "  batch 400 loss: -2.2666750705242156\n",
            "  batch 500 loss: -2.170761376619339\n",
            "  batch 600 loss: -2.292190045118332\n",
            "  batch 700 loss: -2.3099566638469695\n",
            "  batch 800 loss: -2.2445927649736404\n",
            "  batch 900 loss: -2.2630245846509935\n",
            "  batch 1000 loss: -2.158912377357483\n",
            "  batch 1100 loss: -2.2470571303367617\n",
            "  batch 1200 loss: -2.2315681266784666\n",
            "  batch 1300 loss: -2.274301202297211\n",
            "  batch 1400 loss: -2.238245483636856\n",
            "  batch 1500 loss: -2.2109289705753326\n",
            "  batch 1600 loss: -2.4056565314531326\n",
            "LOSS train -2.40566 valid -2.16945\n",
            "EPOCH 3:\n",
            "  batch 100 loss: -2.319848802685738\n",
            "  batch 200 loss: -2.3427145528793334\n",
            "  batch 300 loss: -2.1763381105661392\n",
            "  batch 400 loss: -2.3856533259153365\n",
            "  batch 500 loss: -2.2814986443519594\n",
            "  batch 600 loss: -2.350038217306137\n",
            "  batch 700 loss: -2.3174267518520355\n",
            "  batch 800 loss: -2.3435838842391967\n",
            "  batch 900 loss: -2.4010519671440123\n",
            "  batch 1000 loss: -2.388472650051117\n",
            "  batch 1100 loss: -2.334416571855545\n",
            "  batch 1200 loss: -2.362567648887634\n",
            "  batch 1300 loss: -2.417011533975601\n",
            "  batch 1400 loss: -2.371110420823097\n",
            "  batch 1500 loss: -2.3446958577632904\n",
            "  batch 1600 loss: -2.393210005760193\n",
            "LOSS train -2.39321 valid -2.34175\n",
            "EPOCH 4:\n",
            "  batch 100 loss: -2.1915520960092545\n",
            "  batch 200 loss: -2.2131186830997467\n",
            "  batch 300 loss: -2.346215258836746\n",
            "  batch 400 loss: -2.41709554374218\n",
            "  batch 500 loss: -2.3905035758018496\n",
            "  batch 600 loss: -2.4533549970388413\n",
            "  batch 700 loss: -2.517998762130737\n",
            "  batch 800 loss: -2.31909709751606\n",
            "  batch 900 loss: -2.3160130262374876\n",
            "  batch 1000 loss: -2.393013269901276\n",
            "  batch 1100 loss: -2.295484082698822\n",
            "  batch 1200 loss: -2.3897736477851867\n",
            "  batch 1300 loss: -2.3703382921218874\n",
            "  batch 1400 loss: -2.3111109954118727\n",
            "  batch 1500 loss: -2.3868916219472887\n",
            "  batch 1600 loss: -2.3538793361186983\n",
            "LOSS train -2.35388 valid -2.11658\n",
            "EPOCH 5:\n",
            "  batch 100 loss: -2.366149983406067\n",
            "  batch 200 loss: -2.468192930817604\n",
            "  batch 300 loss: -2.431586879491806\n",
            "  batch 400 loss: -2.404735120534897\n",
            "  batch 500 loss: -2.3779208779335024\n",
            "  batch 600 loss: -2.5626332873106\n",
            "  batch 700 loss: -2.515312991142273\n",
            "  batch 800 loss: -2.429786066412926\n",
            "  batch 900 loss: -2.476195021867752\n",
            "  batch 1000 loss: -2.468575294017792\n",
            "  batch 1100 loss: -2.448847720623016\n",
            "  batch 1200 loss: -2.522345788478851\n",
            "  batch 1300 loss: -2.4131568622589112\n",
            "  batch 1400 loss: -2.3436571794748304\n",
            "  batch 1500 loss: -2.3489380276203153\n",
            "  batch 1600 loss: -2.3801312482357027\n",
            "LOSS train -2.38013 valid -1.98560\n",
            "EPOCH 6:\n",
            "  batch 100 loss: -2.460907542705536\n",
            "  batch 200 loss: -2.444564081430435\n",
            "  batch 300 loss: -2.5561803352832793\n",
            "  batch 400 loss: -2.343301081508398\n",
            "  batch 500 loss: -2.4988933062553405\n",
            "  batch 600 loss: -2.4918446063995363\n",
            "  batch 700 loss: -2.5151567316055297\n",
            "  batch 800 loss: -2.403676798939705\n",
            "  batch 900 loss: -2.448410487174988\n",
            "  batch 1000 loss: -2.4740363705158233\n",
            "  batch 1100 loss: -2.502526982426643\n",
            "  batch 1200 loss: -2.557482117712498\n",
            "  batch 1300 loss: -2.500537545681\n",
            "  batch 1400 loss: -2.5366156733036043\n",
            "  batch 1500 loss: -2.4711612272262573\n",
            "  batch 1600 loss: -2.523015402555466\n",
            "LOSS train -2.52302 valid -2.34259\n",
            "EPOCH 7:\n",
            "  batch 100 loss: -2.583908882141113\n",
            "  batch 200 loss: -2.462913080453873\n",
            "  batch 300 loss: -2.310689743459225\n",
            "  batch 400 loss: -2.455430418252945\n",
            "  batch 500 loss: -2.3658934754133223\n",
            "  batch 600 loss: -2.486437222957611\n",
            "  batch 700 loss: -2.4616238617897035\n",
            "  batch 800 loss: -2.5211861503124235\n",
            "  batch 900 loss: -2.518789277076721\n",
            "  batch 1000 loss: -2.4794734644889833\n",
            "  batch 1100 loss: -2.4754659044742584\n",
            "  batch 1200 loss: -2.3990448999404905\n",
            "  batch 1300 loss: -2.479298401474953\n",
            "  batch 1400 loss: -2.4819804859161376\n",
            "  batch 1500 loss: -2.4722607469558717\n",
            "  batch 1600 loss: -2.3652409535646437\n",
            "LOSS train -2.36524 valid -2.21634\n",
            "EPOCH 8:\n",
            "  batch 100 loss: -2.5123704481124878\n",
            "  batch 200 loss: -2.56561303794384\n",
            "  batch 300 loss: -2.486113286614418\n",
            "  batch 400 loss: -2.4842528635263443\n",
            "  batch 500 loss: -2.5567540419101715\n",
            "  batch 600 loss: -2.437721166014671\n",
            "  batch 700 loss: -2.5040241932868956\n",
            "  batch 800 loss: -2.546432933807373\n",
            "  batch 900 loss: -2.3802705985307693\n",
            "  batch 1000 loss: -2.395011237859726\n",
            "  batch 1100 loss: -2.5542742908000946\n",
            "  batch 1200 loss: -2.5946250236034394\n",
            "  batch 1300 loss: -2.4422377920150757\n",
            "  batch 1400 loss: -2.5952494776248933\n",
            "  batch 1500 loss: -2.4965114331245424\n",
            "  batch 1600 loss: -2.490769347548485\n",
            "LOSS train -2.49077 valid -2.34478\n",
            "EPOCH 9:\n",
            "  batch 100 loss: -2.468028874397278\n",
            "  batch 200 loss: -2.5118236076831817\n",
            "  batch 300 loss: -2.595842100381851\n",
            "  batch 400 loss: -2.7010669016838076\n",
            "  batch 500 loss: -2.534685765504837\n",
            "  batch 600 loss: -2.4608574402332306\n",
            "  batch 700 loss: -2.4600669467449188\n",
            "  batch 800 loss: -2.4488388013839724\n",
            "  batch 900 loss: -2.518865994811058\n",
            "  batch 1000 loss: -2.593555283546448\n",
            "  batch 1100 loss: -2.493209981918335\n",
            "  batch 1200 loss: -2.4388122999668123\n",
            "  batch 1300 loss: -2.5129486751556396\n",
            "  batch 1400 loss: -2.535645877122879\n",
            "  batch 1500 loss: -2.546628962159157\n",
            "  batch 1600 loss: -2.506860761642456\n",
            "LOSS train -2.50686 valid -2.40290\n",
            "EPOCH 10:\n",
            "  batch 100 loss: -2.5817345702648162\n",
            "  batch 200 loss: -2.56915091753006\n",
            "  batch 300 loss: -2.5391372084617614\n",
            "  batch 400 loss: -2.4931324243545534\n",
            "  batch 500 loss: -2.556835924386978\n",
            "  batch 600 loss: -2.3949393129348753\n",
            "  batch 700 loss: -2.5122114568948746\n",
            "  batch 800 loss: -2.5082355308532716\n",
            "  batch 900 loss: -2.554992750287056\n",
            "  batch 1000 loss: -2.60760887503624\n",
            "  batch 1100 loss: -2.500700429677963\n",
            "  batch 1200 loss: -2.53810827255249\n",
            "  batch 1300 loss: -2.519972896575928\n",
            "  batch 1400 loss: -2.5737692320346834\n",
            "  batch 1500 loss: -2.509506469964981\n",
            "  batch 1600 loss: -2.562247052192688\n",
            "LOSS train -2.56225 valid -2.28064\n"
          ]
        },
        {
          "output_type": "display_data",
          "data": {
            "text/plain": [
              "<Figure size 432x288 with 0 Axes>"
            ]
          },
          "metadata": {}
        },
        {
          "output_type": "display_data",
          "data": {
            "text/plain": [
              "<Figure size 432x288 with 3 Axes>"
            ],
            "image/png": "[encoded data removed]"
          },
          "metadata": {}
        },
        {
          "output_type": "display_data",
          "data": {
            "text/plain": [
              "<Figure size 432x288 with 0 Axes>"
            ]
          },
          "metadata": {}
        },
        {
          "output_type": "display_data",
          "data": {
            "text/plain": [
              "<Figure size 432x288 with 3 Axes>"
            ],
            "image/png": "[encoded data removed]"
          },
          "metadata": {}
        },
        {
          "output_type": "display_data",
          "data": {
            "text/plain": [
              "<Figure size 432x288 with 0 Axes>"
            ]
          },
          "metadata": {}
        },
        {
          "output_type": "display_data",
          "data": {
            "text/plain": [
              "<Figure size 432x288 with 3 Axes>"
            ],
            "image/png": "[encoded data removed]"
          },
          "metadata": {}
        },
        {
          "output_type": "display_data",
          "data": {
            "text/plain": [
              "<Figure size 432x288 with 0 Axes>"
            ]
          },
          "metadata": {}
        },
        {
          "output_type": "display_data",
          "data": {
            "text/plain": [
              "<Figure size 432x288 with 3 Axes>"
            ],
            "image/png": "[encoded data removed]"
          },
          "metadata": {}
        },
        {
          "output_type": "display_data",
          "data": {
            "text/plain": [
              "<Figure size 432x288 with 0 Axes>"
            ]
          },
          "metadata": {}
        },
        {
          "output_type": "display_data",
          "data": {
            "text/plain": [
              "<Figure size 432x288 with 3 Axes>"
            ],
            "image/png": "[encoded data removed]"
          },
          "metadata": {}
        },
        {
          "output_type": "display_data",
          "data": {
            "text/plain": [
              "<Figure size 432x288 with 0 Axes>"
            ]
          },
          "metadata": {}
        },
        {
          "output_type": "display_data",
          "data": {
            "text/plain": [
              "<Figure size 432x288 with 3 Axes>"
            ],
            "image/png": "[encoded data removed]"
          },
          "metadata": {}
        },
        {
          "output_type": "display_data",
          "data": {
            "text/plain": [
              "<Figure size 432x288 with 0 Axes>"
            ]
          },
          "metadata": {}
        },
        {
          "output_type": "display_data",
          "data": {
            "text/plain": [
              "<Figure size 432x288 with 3 Axes>"
            ],
            "image/png": "[encoded data removed]"
          },
          "metadata": {}
        },
        {
          "output_type": "display_data",
          "data": {
            "text/plain": [
              "<Figure size 432x288 with 0 Axes>"
            ]
          },
          "metadata": {}
        },
        {
          "output_type": "display_data",
          "data": {
            "text/plain": [
              "<Figure size 432x288 with 3 Axes>"
            ],
            "image/png": "[encoded data removed]"
          },
          "metadata": {}
        },
        {
          "output_type": "display_data",
          "data": {
            "text/plain": [
              "<Figure size 432x288 with 0 Axes>"
            ]
          },
          "metadata": {}
        },
        {
          "output_type": "display_data",
          "data": {
            "text/plain": [
              "<Figure size 432x288 with 3 Axes>"
            ],
            "image/png": "[encoded data removed]"
          },
          "metadata": {}
        },
        {
          "output_type": "display_data",
          "data": {
            "text/plain": [
              "<Figure size 432x288 with 0 Axes>"
            ]
          },
          "metadata": {}
        },
        {
          "output_type": "display_data",
          "data": {
            "text/plain": [
              "<Figure size 432x288 with 3 Axes>"
            ],
            "image/png": "[encoded data removed]"
          },
          "metadata": {}
        }
      ]
    },
    {
      "cell_type": "code",
      "source": [],
      "metadata": {
        "id": "1_2jdVgW7AfK"
      },
      "execution_count": 5,
      "outputs": []
    }
  ],
  "metadata": {
    "kernelspec": {
      "display_name": "base",
      "language": "python",
      "name": "python3"
    },
    "language_info": {
      "name": "python",
      "version": "3.8.8"
    },
    "orig_nbformat": 4,
    "vscode": {
      "interpreter": {
        "hash": "a107914fc340247381b499dda307a9d59455eb5df90543ee7392a8714e7216fb"
      }
    },
    "colab": {
      "provenance": []
    },
    "gpuClass": "standard",
    "accelerator": "GPU"
  },
  "nbformat": 4,
  "nbformat_minor": 0
}