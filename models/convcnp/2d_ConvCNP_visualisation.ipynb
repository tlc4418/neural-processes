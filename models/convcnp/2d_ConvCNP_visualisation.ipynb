{
 "cells": [
  {
   "cell_type": "code",
   "execution_count": 67,
   "metadata": {
    "colab": {
     "base_uri": "https://localhost:8080/"
    },
    "id": "D1xQedN9zLXk",
    "outputId": "8af2aeb6-ddbd-435a-bcb6-c77f39465dd8"
   },
   "outputs": [],
   "source": [
    "import os\n",
    "os.chdir(\"..\\..\")\n",
    "# from google.colab import drive \n",
    "# drive.mount('/content/drive')\n",
    "# %cd /content/drive/MyDrive/neural-processes-main\n",
    "import torch\n",
    "import numpy as np\n",
    "import torchvision\n",
    "from torch.utils.data import DataLoader\n",
    "from torchvision import datasets, transforms\n",
    "from ConvCNP_2d import GridConvCNP\n",
    "from train_cnp import train_2d\n",
    "import matplotlib.pyplot as plt#\n",
    "device = torch.device(\"cuda\" if torch.cuda.is_available() else \"cpu\")"
   ]
  },
  {
   "cell_type": "code",
   "execution_count": 80,
   "metadata": {
    "id": "pEhkF24Dz9B1"
   },
   "outputs": [
    {
     "name": "stdout",
     "output_type": "stream",
     "text": [
      "Downloading http://yann.lecun.com/exdb/mnist/train-images-idx3-ubyte.gz\n",
      "Downloading http://yann.lecun.com/exdb/mnist/train-images-idx3-ubyte.gz to ./data/MNIST/raw/train-images-idx3-ubyte.gz\n"
     ]
    },
    {
     "name": "stderr",
     "output_type": "stream",
     "text": [
      "100.0%\n"
     ]
    },
    {
     "name": "stdout",
     "output_type": "stream",
     "text": [
      "Extracting ./data/MNIST/raw/train-images-idx3-ubyte.gz to ./data/MNIST/raw\n",
      "\n",
      "Downloading http://yann.lecun.com/exdb/mnist/train-labels-idx1-ubyte.gz\n",
      "Downloading http://yann.lecun.com/exdb/mnist/train-labels-idx1-ubyte.gz to ./data/MNIST/raw/train-labels-idx1-ubyte.gz\n"
     ]
    },
    {
     "name": "stderr",
     "output_type": "stream",
     "text": [
      "100.0%\n"
     ]
    },
    {
     "name": "stdout",
     "output_type": "stream",
     "text": [
      "Extracting ./data/MNIST/raw/train-labels-idx1-ubyte.gz to ./data/MNIST/raw\n",
      "\n",
      "Downloading http://yann.lecun.com/exdb/mnist/t10k-images-idx3-ubyte.gz\n",
      "Downloading http://yann.lecun.com/exdb/mnist/t10k-images-idx3-ubyte.gz to ./data/MNIST/raw/t10k-images-idx3-ubyte.gz\n"
     ]
    },
    {
     "name": "stderr",
     "output_type": "stream",
     "text": [
      "100.0%\n"
     ]
    },
    {
     "name": "stdout",
     "output_type": "stream",
     "text": [
      "Extracting ./data/MNIST/raw/t10k-images-idx3-ubyte.gz to ./data/MNIST/raw\n",
      "\n",
      "Downloading http://yann.lecun.com/exdb/mnist/t10k-labels-idx1-ubyte.gz\n",
      "Downloading http://yann.lecun.com/exdb/mnist/t10k-labels-idx1-ubyte.gz to ./data/MNIST/raw/t10k-labels-idx1-ubyte.gz\n"
     ]
    },
    {
     "name": "stderr",
     "output_type": "stream",
     "text": [
      "100.0%"
     ]
    },
    {
     "name": "stdout",
     "output_type": "stream",
     "text": [
      "Extracting ./data/MNIST/raw/t10k-labels-idx1-ubyte.gz to ./data/MNIST/raw\n",
      "\n"
     ]
    },
    {
     "name": "stderr",
     "output_type": "stream",
     "text": [
      "\n"
     ]
    }
   ],
   "source": [
    "trainset_mnist = datasets.MNIST(root='./data', train=True, download=True, transform=transforms.Compose([transforms.Resize(32), transforms.ToTensor()]))\n",
    "test_mnist = datasets.MNIST(root='./data', train=False, download=True, transform=transforms.Compose([transforms.Resize(32), transforms.ToTensor()]))\n"
   ]
  },
  {
   "cell_type": "code",
   "execution_count": 81,
   "metadata": {
    "id": "omkajA7W2xIf"
   },
   "outputs": [],
   "source": [
    "train_mnist, val_mnist = torch.utils.data.random_split(trainset_mnist, [54000, 6000], generator=torch.Generator().manual_seed(1))"
   ]
  },
  {
   "cell_type": "code",
   "execution_count": 82,
   "metadata": {
    "id": "UdKPj0C14i_k"
   },
   "outputs": [],
   "source": [
    "train_mnist_loader = DataLoader(dataset=train_mnist, shuffle=True, batch_size=32)\n",
    "val_mnist_loader = DataLoader(dataset=val_mnist, shuffle=False, batch_size=32)\n",
    "test_mnist_loader = DataLoader(dataset=test_mnist, shuffle=False, batch_size=32)\n"
   ]
  },
  {
   "cell_type": "code",
   "execution_count": 5,
   "metadata": {
    "colab": {
     "base_uri": "https://localhost:8080/",
     "height": 1000
    },
    "id": "tnlSfASZ6EqJ",
    "outputId": "2c2a3933-244b-47fe-f511-2bc12bf93464"
   },
   "outputs": [
    {
     "name": "stdout",
     "output_type": "stream",
     "text": [
      "Using device: cuda\n",
      "EPOCH 1:\n",
      "  batch 100 loss: -0.41949067284353075\n",
      "  batch 200 loss: -0.9569947864115238\n",
      "  batch 300 loss: -1.515671231597662\n",
      "  batch 400 loss: -1.507757057249546\n",
      "  batch 500 loss: -1.8313532544672488\n",
      "  batch 600 loss: -1.6550606615841388\n",
      "  batch 700 loss: -1.939956991672516\n",
      "  batch 800 loss: -1.9354034292697906\n",
      "  batch 900 loss: -2.0550619733333586\n",
      "  batch 1000 loss: -2.0652654469013214\n",
      "  batch 1100 loss: -2.081205362677574\n",
      "  batch 1200 loss: -2.1383792579174044\n",
      "  batch 1300 loss: -2.0540052282810213\n",
      "  batch 1400 loss: -2.179243450164795\n",
      "  batch 1500 loss: -2.1790587386488913\n",
      "  batch 1600 loss: -2.062986842393875\n",
      "LOSS train -2.06299 valid -1.98017\n",
      "EPOCH 2:\n",
      "  batch 100 loss: -2.1360696509480475\n",
      "  batch 200 loss: -2.2116644269227983\n",
      "  batch 300 loss: -2.2287100088596343\n",
      "  batch 400 loss: -2.2666750705242156\n",
      "  batch 500 loss: -2.170761376619339\n",
      "  batch 600 loss: -2.292190045118332\n",
      "  batch 700 loss: -2.3099566638469695\n",
      "  batch 800 loss: -2.2445927649736404\n",
      "  batch 900 loss: -2.2630245846509935\n",
      "  batch 1000 loss: -2.158912377357483\n",
      "  batch 1100 loss: -2.2470571303367617\n",
      "  batch 1200 loss: -2.2315681266784666\n",
      "  batch 1300 loss: -2.274301202297211\n",
      "  batch 1400 loss: -2.238245483636856\n",
      "  batch 1500 loss: -2.2109289705753326\n",
      "  batch 1600 loss: -2.4056565314531326\n",
      "LOSS train -2.40566 valid -2.16945\n",
      "EPOCH 3:\n",
      "  batch 100 loss: -2.319848802685738\n",
      "  batch 200 loss: -2.3427145528793334\n",
      "  batch 300 loss: -2.1763381105661392\n",
      "  batch 400 loss: -2.3856533259153365\n",
      "  batch 500 loss: -2.2814986443519594\n",
      "  batch 600 loss: -2.350038217306137\n",
      "  batch 700 loss: -2.3174267518520355\n",
      "  batch 800 loss: -2.3435838842391967\n",
      "  batch 900 loss: -2.4010519671440123\n",
      "  batch 1000 loss: -2.388472650051117\n",
      "  batch 1100 loss: -2.334416571855545\n",
      "  batch 1200 loss: -2.362567648887634\n",
      "  batch 1300 loss: -2.417011533975601\n",
      "  batch 1400 loss: -2.371110420823097\n",
      "  batch 1500 loss: -2.3446958577632904\n",
      "  batch 1600 loss: -2.393210005760193\n",
      "LOSS train -2.39321 valid -2.34175\n",
      "EPOCH 4:\n",
      "  batch 100 loss: -2.1915520960092545\n",
      "  batch 200 loss: -2.2131186830997467\n",
      "  batch 300 loss: -2.346215258836746\n",
      "  batch 400 loss: -2.41709554374218\n",
      "  batch 500 loss: -2.3905035758018496\n",
      "  batch 600 loss: -2.4533549970388413\n",
      "  batch 700 loss: -2.517998762130737\n",
      "  batch 800 loss: -2.31909709751606\n",
      "  batch 900 loss: -2.3160130262374876\n",
      "  batch 1000 loss: -2.393013269901276\n",
      "  batch 1100 loss: -2.295484082698822\n",
      "  batch 1200 loss: -2.3897736477851867\n",
      "  batch 1300 loss: -2.3703382921218874\n",
      "  batch 1400 loss: -2.3111109954118727\n",
      "  batch 1500 loss: -2.3868916219472887\n",
      "  batch 1600 loss: -2.3538793361186983\n",
      "LOSS train -2.35388 valid -2.11658\n",
      "EPOCH 5:\n",
      "  batch 100 loss: -2.366149983406067\n",
      "  batch 200 loss: -2.468192930817604\n",
      "  batch 300 loss: -2.431586879491806\n",
      "  batch 400 loss: -2.404735120534897\n",
      "  batch 500 loss: -2.3779208779335024\n",
      "  batch 600 loss: -2.5626332873106\n",
      "  batch 700 loss: -2.515312991142273\n",
      "  batch 800 loss: -2.429786066412926\n",
      "  batch 900 loss: -2.476195021867752\n",
      "  batch 1000 loss: -2.468575294017792\n",
      "  batch 1100 loss: -2.448847720623016\n",
      "  batch 1200 loss: -2.522345788478851\n",
      "  batch 1300 loss: -2.4131568622589112\n",
      "  batch 1400 loss: -2.3436571794748304\n",
      "  batch 1500 loss: -2.3489380276203153\n",
      "  batch 1600 loss: -2.3801312482357027\n",
      "LOSS train -2.38013 valid -1.98560\n",
      "EPOCH 6:\n",
      "  batch 100 loss: -2.460907542705536\n",
      "  batch 200 loss: -2.444564081430435\n",
      "  batch 300 loss: -2.5561803352832793\n",
      "  batch 400 loss: -2.343301081508398\n",
      "  batch 500 loss: -2.4988933062553405\n",
      "  batch 600 loss: -2.4918446063995363\n",
      "  batch 700 loss: -2.5151567316055297\n",
      "  batch 800 loss: -2.403676798939705\n",
      "  batch 900 loss: -2.448410487174988\n",
      "  batch 1000 loss: -2.4740363705158233\n",
      "  batch 1100 loss: -2.502526982426643\n",
      "  batch 1200 loss: -2.557482117712498\n",
      "  batch 1300 loss: -2.500537545681\n",
      "  batch 1400 loss: -2.5366156733036043\n",
      "  batch 1500 loss: -2.4711612272262573\n",
      "  batch 1600 loss: -2.523015402555466\n",
      "LOSS train -2.52302 valid -2.34259\n",
      "EPOCH 7:\n",
      "  batch 100 loss: -2.583908882141113\n",
      "  batch 200 loss: -2.462913080453873\n",
      "  batch 300 loss: -2.310689743459225\n",
      "  batch 400 loss: -2.455430418252945\n",
      "  batch 500 loss: -2.3658934754133223\n",
      "  batch 600 loss: -2.486437222957611\n",
      "  batch 700 loss: -2.4616238617897035\n",
      "  batch 800 loss: -2.5211861503124235\n",
      "  batch 900 loss: -2.518789277076721\n",
      "  batch 1000 loss: -2.4794734644889833\n",
      "  batch 1100 loss: -2.4754659044742584\n",
      "  batch 1200 loss: -2.3990448999404905\n",
      "  batch 1300 loss: -2.479298401474953\n",
      "  batch 1400 loss: -2.4819804859161376\n",
      "  batch 1500 loss: -2.4722607469558717\n",
      "  batch 1600 loss: -2.3652409535646437\n",
      "LOSS train -2.36524 valid -2.21634\n",
      "EPOCH 8:\n",
      "  batch 100 loss: -2.5123704481124878\n",
      "  batch 200 loss: -2.56561303794384\n",
      "  batch 300 loss: -2.486113286614418\n",
      "  batch 400 loss: -2.4842528635263443\n",
      "  batch 500 loss: -2.5567540419101715\n",
      "  batch 600 loss: -2.437721166014671\n",
      "  batch 700 loss: -2.5040241932868956\n",
      "  batch 800 loss: -2.546432933807373\n",
      "  batch 900 loss: -2.3802705985307693\n",
      "  batch 1000 loss: -2.395011237859726\n",
      "  batch 1100 loss: -2.5542742908000946\n",
      "  batch 1200 loss: -2.5946250236034394\n",
      "  batch 1300 loss: -2.4422377920150757\n",
      "  batch 1400 loss: -2.5952494776248933\n",
      "  batch 1500 loss: -2.4965114331245424\n",
      "  batch 1600 loss: -2.490769347548485\n",
      "LOSS train -2.49077 valid -2.34478\n",
      "EPOCH 9:\n",
      "  batch 100 loss: -2.468028874397278\n",
      "  batch 200 loss: -2.5118236076831817\n",
      "  batch 300 loss: -2.595842100381851\n",
      "  batch 400 loss: -2.7010669016838076\n",
      "  batch 500 loss: -2.534685765504837\n",
      "  batch 600 loss: -2.4608574402332306\n",
      "  batch 700 loss: -2.4600669467449188\n",
      "  batch 800 loss: -2.4488388013839724\n",
      "  batch 900 loss: -2.518865994811058\n",
      "  batch 1000 loss: -2.593555283546448\n",
      "  batch 1100 loss: -2.493209981918335\n",
      "  batch 1200 loss: -2.4388122999668123\n",
      "  batch 1300 loss: -2.5129486751556396\n",
      "  batch 1400 loss: -2.535645877122879\n",
      "  batch 1500 loss: -2.546628962159157\n",
      "  batch 1600 loss: -2.506860761642456\n",
      "LOSS train -2.50686 valid -2.40290\n",
      "EPOCH 10:\n",
      "  batch 100 loss: -2.5817345702648162\n",
      "  batch 200 loss: -2.56915091753006\n",
      "  batch 300 loss: -2.5391372084617614\n",
      "  batch 400 loss: -2.4931324243545534\n",
      "  batch 500 loss: -2.556835924386978\n",
      "  batch 600 loss: -2.3949393129348753\n",
      "  batch 700 loss: -2.5122114568948746\n",
      "  batch 800 loss: -2.5082355308532716\n",
      "  batch 900 loss: -2.554992750287056\n",
      "  batch 1000 loss: -2.60760887503624\n",
      "  batch 1100 loss: -2.500700429677963\n",
      "  batch 1200 loss: -2.53810827255249\n",
      "  batch 1300 loss: -2.519972896575928\n",
      "  batch 1400 loss: -2.5737692320346834\n",
      "  batch 1500 loss: -2.509506469964981\n",
      "  batch 1600 loss: -2.562247052192688\n",
      "LOSS train -2.56225 valid -2.28064\n"
     ]
    },
    {
     "data": {
      "text/plain": [
       "<Figure size 432x288 with 0 Axes>"
      ]
     },
     "metadata": {},
     "output_type": "display_data"
    },
    {
     "data": {
      "image/png": "[encoded data removed]",
      "text/plain": [
       "<Figure size 432x288 with 3 Axes>"
      ]
     },
     "metadata": {},
     "output_type": "display_data"
    },
    {
     "data": {
      "text/plain": [
       "<Figure size 432x288 with 0 Axes>"
      ]
     },
     "metadata": {},
     "output_type": "display_data"
    },
    {
     "data": {
      "image/png": "[encoded data removed]",
      "text/plain": [
       "<Figure size 432x288 with 3 Axes>"
      ]
     },
     "metadata": {},
     "output_type": "display_data"
    },
    {
     "data": {
      "text/plain": [
       "<Figure size 432x288 with 0 Axes>"
      ]
     },
     "metadata": {},
     "output_type": "display_data"
    },
    {
     "data": {
      "image/png": "[encoded data removed]",
      "text/plain": [
       "<Figure size 432x288 with 3 Axes>"
      ]
     },
     "metadata": {},
     "output_type": "display_data"
    },
    {
     "data": {
      "text/plain": [
       "<Figure size 432x288 with 0 Axes>"
      ]
     },
     "metadata": {},
     "output_type": "display_data"
    },
    {
     "data": {
      "image/png": "[encoded data removed]",
      "text/plain": [
       "<Figure size 432x288 with 3 Axes>"
      ]
     },
     "metadata": {},
     "output_type": "display_data"
    },
    {
     "data": {
      "text/plain": [
       "<Figure size 432x288 with 0 Axes>"
      ]
     },
     "metadata": {},
     "output_type": "display_data"
    },
    {
     "data": {
      "image/png": "[encoded data removed]",
      "text/plain": [
       "<Figure size 432x288 with 3 Axes>"
      ]
     },
     "metadata": {},
     "output_type": "display_data"
    },
    {
     "data": {
      "text/plain": [
       "<Figure size 432x288 with 0 Axes>"
      ]
     },
     "metadata": {},
     "output_type": "display_data"
    },
    {
     "data": {
      "image/png": "[encoded data removed]",
      "text/plain": [
       "<Figure size 432x288 with 3 Axes>"
      ]
     },
     "metadata": {},
     "output_type": "display_data"
    },
    {
     "data": {
      "text/plain": [
       "<Figure size 432x288 with 0 Axes>"
      ]
     },
     "metadata": {},
     "output_type": "display_data"
    },
    {
     "data": {
      "image/png": "[encoded data removed]",
      "text/plain": [
       "<Figure size 432x288 with 3 Axes>"
      ]
     },
     "metadata": {},
     "output_type": "display_data"
    },
    {
     "data": {
      "text/plain": [
       "<Figure size 432x288 with 0 Axes>"
      ]
     },
     "metadata": {},
     "output_type": "display_data"
    },
    {
     "data": {
      "image/png": "[encoded data removed]",
      "text/plain": [
       "<Figure size 432x288 with 3 Axes>"
      ]
     },
     "metadata": {},
     "output_type": "display_data"
    },
    {
     "data": {
      "text/plain": [
       "<Figure size 432x288 with 0 Axes>"
      ]
     },
     "metadata": {},
     "output_type": "display_data"
    },
    {
     "data": {
      "image/png": "[encoded data removed]",
      "text/plain": [
       "<Figure size 432x288 with 3 Axes>"
      ]
     },
     "metadata": {},
     "output_type": "display_data"
    },
    {
     "data": {
      "text/plain": [
       "<Figure size 432x288 with 0 Axes>"
      ]
     },
     "metadata": {},
     "output_type": "display_data"
    },
    {
     "data": {
      "image/png": "[encoded data removed]",
      "text/plain": [
       "<Figure size 432x288 with 3 Axes>"
      ]
     },
     "metadata": {},
     "output_type": "display_data"
    }
   ],
   "source": [
    "ConvCNP_mnist = GridConvCNP(1,1,11,9,5,2,128,4)\n",
    "best_ConvCNP_mnist_path=train_2d(model = ConvCNP_mnist, model_name = \"ConvCNP_2d_MNIST\", train_loader=train_mnist_loader, \n",
    "                val_loader = val_mnist_loader, a = 0.0, b= 0.3, epochs=10, report_interval=100)"
   ]
  },
  {
   "cell_type": "code",
   "execution_count": 3,
   "metadata": {
    "id": "1_2jdVgW7AfK"
   },
   "outputs": [
    {
     "name": "stdout",
     "output_type": "stream",
     "text": [
      "Using device: cuda\n",
      "EPOCH 1:\n",
      "  batch 200 loss: -0.5438099051592872\n",
      "  batch 400 loss: -1.3818326879385858\n",
      "  batch 600 loss: -1.7205805683089421\n",
      "  batch 800 loss: -2.298012656029314\n",
      "  batch 1000 loss: -2.5028848522529006\n",
      "  batch 1200 loss: -2.5504449613392355\n",
      "  batch 1400 loss: -2.6402886040881275\n",
      "  batch 1600 loss: -2.541879309671931\n",
      "  batch 1800 loss: -2.7128253219183533\n",
      "  batch 2000 loss: -2.5956621731817724\n",
      "  batch 2200 loss: -2.8123106511402876\n",
      "  batch 2400 loss: -2.8665807801112533\n",
      "LOSS train -2.86658 valid -2.51195\n",
      "EPOCH 2:\n",
      "  batch 200 loss: -2.8456504148989916\n",
      "  batch 400 loss: -2.957161909460556\n",
      "  batch 600 loss: -2.8651042262092234\n",
      "  batch 800 loss: -3.1712471977621317\n",
      "  batch 1000 loss: -3.0964223900064827\n",
      "  batch 1200 loss: -3.1616953113675117\n",
      "  batch 1400 loss: -3.166201181970537\n",
      "  batch 1600 loss: -3.2896549937222153\n",
      "  batch 1800 loss: -3.088361888770014\n",
      "  batch 2000 loss: -3.3071310988254847\n",
      "  batch 2200 loss: -3.222052410207689\n",
      "  batch 2400 loss: -3.200464257467538\n",
      "LOSS train -3.20046 valid -2.52123\n",
      "EPOCH 3:\n",
      "  batch 200 loss: -3.250317519158125\n",
      "  batch 400 loss: -3.4618859132099895\n",
      "  batch 600 loss: -3.5555370968952773\n",
      "  batch 800 loss: -3.5288061194121836\n",
      "  batch 1000 loss: -3.386291330922395\n",
      "  batch 1200 loss: -3.458025835491717\n",
      "  batch 1400 loss: -3.31796017809771\n",
      "  batch 1600 loss: -3.5017924538254737\n",
      "  batch 1800 loss: -3.5076895605027674\n",
      "  batch 2000 loss: -3.6942029083147645\n",
      "  batch 2200 loss: -3.632200313955545\n",
      "  batch 2400 loss: -3.5469837081432343\n",
      "LOSS train -3.54698 valid -2.63187\n",
      "EPOCH 4:\n",
      "  batch 200 loss: -3.614827881604433\n",
      "  batch 400 loss: -3.4342440800741314\n",
      "  batch 600 loss: -3.6675366892758756\n",
      "  batch 800 loss: -3.567205408113077\n",
      "  batch 1000 loss: -3.56619342058897\n",
      "  batch 1200 loss: -3.441168644214049\n",
      "  batch 1400 loss: -3.7227780620753763\n",
      "  batch 1600 loss: -3.5790433299541475\n",
      "  batch 1800 loss: -3.5873148559732364\n",
      "  batch 2000 loss: -3.780506375879049\n",
      "  batch 2200 loss: -3.6895444410294296\n",
      "  batch 2400 loss: -3.8517480389866976\n",
      "LOSS train -3.85175 valid 0.10432\n",
      "EPOCH 5:\n",
      "  batch 200 loss: -3.7933487913757564\n",
      "  batch 400 loss: -3.8094114636443557\n",
      "  batch 600 loss: -3.8792260598018764\n",
      "  batch 800 loss: -3.8005986808240415\n",
      "  batch 1000 loss: -3.757990312874317\n",
      "  batch 1200 loss: -3.861327119786292\n",
      "  batch 1400 loss: -3.781089276894927\n",
      "  batch 1600 loss: -3.8569791412353513\n",
      "  batch 1800 loss: -3.8989883566554635\n",
      "  batch 2000 loss: -3.9197935304045677\n",
      "  batch 2200 loss: -3.788907036697492\n",
      "  batch 2400 loss: -3.993908966332674\n",
      "LOSS train -3.99391 valid -3.42653\n",
      "EPOCH 6:\n",
      "  batch 200 loss: -3.991213807165623\n",
      "  batch 400 loss: -3.9177973176166416\n",
      "  batch 600 loss: -3.8616489627957344\n",
      "  batch 800 loss: -4.047615777254105\n",
      "  batch 1000 loss: -3.988044020533562\n",
      "  batch 1200 loss: -4.100142312124372\n",
      "  batch 1400 loss: -4.065101750530302\n",
      "  batch 1600 loss: -4.000547192841768\n",
      "  batch 1800 loss: -3.9505096595548093\n",
      "  batch 2000 loss: -4.210246380418539\n",
      "  batch 2200 loss: -4.163968215771019\n",
      "  batch 2400 loss: -4.209159784018993\n",
      "LOSS train -4.20916 valid -3.10425\n",
      "EPOCH 7:\n",
      "  batch 200 loss: -3.896439726613462\n",
      "  batch 400 loss: -4.259631156772375\n",
      "  batch 600 loss: -4.249651139527559\n",
      "  batch 800 loss: -4.054648432265967\n",
      "  batch 1000 loss: -3.958440703228116\n",
      "  batch 1200 loss: -4.16081522539258\n",
      "  batch 1400 loss: -4.132279118485749\n",
      "  batch 1600 loss: -4.082276563383639\n",
      "  batch 1800 loss: -4.282703219652176\n",
      "  batch 2000 loss: -4.327196999043227\n",
      "  batch 2200 loss: -4.054088335856795\n",
      "  batch 2400 loss: -4.162072645276785\n",
      "LOSS train -4.16207 valid -3.63367\n",
      "EPOCH 8:\n",
      "  batch 200 loss: -4.239047559797764\n",
      "  batch 400 loss: -4.188097682297229\n",
      "  batch 600 loss: -4.178397416900843\n",
      "  batch 800 loss: -4.228931013289839\n",
      "  batch 1000 loss: -4.313859870433808\n",
      "  batch 1200 loss: -4.143943713661283\n",
      "  batch 1400 loss: -4.308930058181286\n",
      "  batch 1600 loss: -4.2533903938252475\n",
      "  batch 1800 loss: -4.5072706587612625\n",
      "  batch 2000 loss: -4.266153790950775\n",
      "  batch 2200 loss: -4.291755711585283\n",
      "  batch 2400 loss: -4.241654102187604\n",
      "LOSS train -4.24165 valid -3.60458\n",
      "EPOCH 9:\n",
      "  batch 200 loss: -4.028400742225349\n",
      "  batch 400 loss: -4.509398737549782\n",
      "  batch 600 loss: -4.276463057622314\n",
      "  batch 800 loss: -4.259323472678662\n",
      "  batch 1000 loss: -4.36674023590982\n",
      "  batch 1200 loss: -4.327304973602295\n",
      "  batch 1400 loss: -4.45242341697216\n",
      "  batch 1600 loss: -4.230830081030726\n",
      "  batch 1800 loss: -4.270977035239339\n",
      "  batch 2000 loss: -4.20090821236372\n",
      "  batch 2200 loss: -4.390029038190842\n",
      "  batch 2400 loss: -4.188473603110761\n",
      "LOSS train -4.18847 valid -3.47364\n",
      "EPOCH 10:\n",
      "  batch 200 loss: -4.356694510504603\n",
      "  batch 400 loss: -4.372433133609593\n",
      "  batch 600 loss: -4.352531278803944\n",
      "  batch 800 loss: -4.571739382892847\n",
      "  batch 1000 loss: -4.418954136669636\n",
      "  batch 1200 loss: -4.363831219151616\n",
      "  batch 1400 loss: -4.650638674795627\n",
      "  batch 1600 loss: -4.2407345468923445\n",
      "  batch 1800 loss: -4.484643969386816\n",
      "  batch 2000 loss: -4.572037179581821\n",
      "  batch 2200 loss: -4.3894141712039705\n",
      "  batch 2400 loss: -4.166116885021329\n",
      "LOSS train -4.16612 valid -3.90862\n",
      "EPOCH 11:\n",
      "  batch 200 loss: -4.361201462745666\n",
      "  batch 400 loss: -4.455187551379204\n",
      "  batch 600 loss: -4.605463084876537\n",
      "  batch 800 loss: -4.335667600035667\n",
      "  batch 1000 loss: -4.441891053691506\n",
      "  batch 1200 loss: -4.460793316923082\n",
      "  batch 1400 loss: -4.523136830031872\n",
      "  batch 1600 loss: -4.5398665355145935\n",
      "  batch 1800 loss: -4.4373668859899045\n",
      "  batch 2000 loss: -4.606982495766133\n",
      "  batch 2200 loss: -4.341511139050126\n",
      "  batch 2400 loss: -4.41241369895637\n",
      "LOSS train -4.41241 valid -3.91100\n",
      "EPOCH 12:\n",
      "  batch 200 loss: -4.579090448990464\n",
      "  batch 400 loss: -4.509734176248312\n",
      "  batch 600 loss: -4.624724709689617\n",
      "  batch 800 loss: -4.534398144930601\n",
      "  batch 1000 loss: -4.539019172890112\n",
      "  batch 1200 loss: -4.42115264588967\n",
      "  batch 1400 loss: -4.7444418677687645\n",
      "  batch 1600 loss: -4.507754797339439\n",
      "  batch 1800 loss: -4.565215884670615\n",
      "  batch 2000 loss: -4.575569695383311\n",
      "  batch 2200 loss: -4.551739713251591\n",
      "  batch 2400 loss: -4.44311928100884\n",
      "LOSS train -4.44312 valid -3.61186\n",
      "EPOCH 13:\n",
      "  batch 200 loss: -4.718272954151034\n",
      "  batch 400 loss: -4.742774198297411\n",
      "  batch 600 loss: -4.458289557248354\n",
      "  batch 800 loss: -4.66156572766602\n",
      "  batch 1000 loss: -4.5450869217514995\n",
      "  batch 1200 loss: -4.59971688747406\n",
      "  batch 1400 loss: -4.745600919872523\n",
      "  batch 1600 loss: -4.611565810739994\n",
      "  batch 1800 loss: -4.535998313073069\n",
      "  batch 2000 loss: -4.517593213245273\n",
      "  batch 2200 loss: -4.600388489440084\n",
      "  batch 2400 loss: -4.519066793322563\n",
      "LOSS train -4.51907 valid -4.15537\n",
      "EPOCH 14:\n",
      "  batch 200 loss: -4.566219599731267\n",
      "  batch 400 loss: -4.829194832742214\n",
      "  batch 600 loss: -4.719199834652245\n",
      "  batch 800 loss: -4.598475836217403\n",
      "  batch 1000 loss: -4.722526063621044\n",
      "  batch 1200 loss: -4.745610490143299\n",
      "  batch 1400 loss: -4.714476499985904\n",
      "  batch 1600 loss: -4.649637745954096\n",
      "  batch 1800 loss: -4.615868726707995\n",
      "  batch 2000 loss: -4.552523055393249\n",
      "  batch 2200 loss: -4.73593085333705\n",
      "  batch 2400 loss: -4.576514344643801\n",
      "LOSS train -4.57651 valid -4.40352\n",
      "EPOCH 15:\n",
      "  batch 200 loss: -4.508932095579803\n",
      "  batch 400 loss: -4.60228468131274\n",
      "  batch 600 loss: -4.74363278310746\n",
      "  batch 800 loss: -4.68806419569999\n",
      "  batch 1000 loss: -4.434619473377243\n",
      "  batch 1200 loss: -4.596763398461044\n",
      "  batch 1400 loss: -4.91385294355452\n",
      "  batch 1600 loss: -4.864208440221846\n",
      "  batch 1800 loss: -4.643430761992931\n",
      "  batch 2000 loss: -4.590627918886021\n",
      "  batch 2200 loss: -4.744843517392874\n",
      "  batch 2400 loss: -4.496974220350385\n",
      "LOSS train -4.49697 valid -3.63209\n",
      "EPOCH 16:\n",
      "  batch 200 loss: -4.64963302668184\n",
      "  batch 400 loss: -4.693534078025259\n",
      "  batch 600 loss: -4.675209987238049\n",
      "  batch 800 loss: -4.652672878801822\n",
      "  batch 1000 loss: -4.735174863003194\n",
      "  batch 1200 loss: -4.825928151607513\n",
      "  batch 1400 loss: -4.534220702946186\n",
      "  batch 1600 loss: -4.91701504483819\n",
      "  batch 1800 loss: -4.634037536382675\n",
      "  batch 2000 loss: -4.7067374784499405\n",
      "  batch 2200 loss: -4.643339192867279\n",
      "  batch 2400 loss: -4.623811926878989\n",
      "LOSS train -4.62381 valid -4.56897\n",
      "EPOCH 17:\n",
      "  batch 200 loss: -4.677216608598829\n",
      "  batch 400 loss: -4.6773430305719375\n",
      "  batch 600 loss: -4.6102934423834085\n",
      "  batch 800 loss: -4.727243535220623\n",
      "  batch 1000 loss: -4.845309711918235\n",
      "  batch 1200 loss: -4.793866460146383\n",
      "  batch 1400 loss: -4.7489220966398715\n",
      "  batch 1600 loss: -4.823070550058037\n",
      "  batch 1800 loss: -4.822106686085463\n",
      "  batch 2000 loss: -4.783181242495775\n",
      "  batch 2200 loss: -4.6938824711740015\n",
      "  batch 2400 loss: -4.77931610122323\n",
      "LOSS train -4.77932 valid -2.21595\n",
      "EPOCH 18:\n",
      "  batch 200 loss: -4.799082715064287\n",
      "  batch 400 loss: -4.8464238750934605\n",
      "  batch 600 loss: -4.813301323652268\n",
      "  batch 800 loss: -4.783795323595404\n",
      "  batch 1000 loss: -4.902970919385552\n",
      "  batch 1200 loss: -4.726104389447719\n",
      "  batch 1400 loss: -4.872783899605274\n",
      "  batch 1600 loss: -4.776680554151535\n",
      "  batch 1800 loss: -4.661248363368213\n",
      "  batch 2000 loss: -4.756803449383005\n",
      "  batch 2200 loss: -5.034554218277335\n",
      "  batch 2400 loss: -4.616703740227967\n",
      "LOSS train -4.61670 valid -4.82160\n",
      "EPOCH 19:\n",
      "  batch 200 loss: -4.616603947589174\n",
      "  batch 400 loss: -4.893114956244826\n",
      "  batch 600 loss: -5.049800172746181\n",
      "  batch 800 loss: -4.745006322860718\n",
      "  batch 1000 loss: -4.545562857463956\n",
      "  batch 1200 loss: -4.646745455563068\n",
      "  batch 1400 loss: -4.902173409461975\n",
      "  batch 1600 loss: -4.8721052371244875\n",
      "  batch 1800 loss: -4.961140918135643\n",
      "  batch 2000 loss: -4.966939845010638\n",
      "  batch 2200 loss: -4.725551138147711\n",
      "  batch 2400 loss: -4.908238589465618\n",
      "LOSS train -4.90824 valid -3.71459\n",
      "EPOCH 20:\n",
      "  batch 200 loss: -4.938085671253503\n",
      "  batch 400 loss: -4.983129559718073\n",
      "  batch 600 loss: -4.719174012495205\n",
      "  batch 800 loss: -4.673903618380427\n",
      "  batch 1000 loss: -4.636194512881339\n",
      "  batch 1200 loss: -4.636852618865669\n",
      "  batch 1400 loss: -4.790382822528482\n",
      "  batch 1600 loss: -4.815708296447992\n",
      "  batch 1800 loss: -4.858722146451473\n",
      "  batch 2000 loss: -5.027431645542383\n",
      "  batch 2200 loss: -4.949708697199822\n",
      "  batch 2400 loss: -4.89972114995122\n",
      "LOSS train -4.89972 valid 8.10316\n",
      "EPOCH 21:\n",
      "  batch 200 loss: -4.961544123888015\n",
      "  batch 400 loss: -4.673287931606174\n",
      "  batch 600 loss: -4.791523340903223\n",
      "  batch 800 loss: -5.004466050714254\n",
      "  batch 1000 loss: -4.8619127225875856\n",
      "  batch 1200 loss: -4.960888983067125\n",
      "  batch 1400 loss: -4.748359209299087\n",
      "  batch 1600 loss: -4.626275269165635\n",
      "  batch 1800 loss: -4.909429957270622\n",
      "  batch 2000 loss: -4.825491719320416\n",
      "  batch 2200 loss: -4.808813232574612\n",
      "  batch 2400 loss: -4.748730802312493\n",
      "LOSS train -4.74873 valid -3.64581\n",
      "EPOCH 22:\n",
      "  batch 200 loss: -4.774060503859073\n",
      "  batch 400 loss: -4.701566084474325\n",
      "  batch 600 loss: -4.806586747206747\n",
      "  batch 800 loss: -4.963256217669696\n",
      "  batch 1000 loss: -4.537527749910951\n",
      "  batch 1200 loss: -4.955478197038174\n",
      "  batch 1400 loss: -4.5194804809615015\n",
      "  batch 1600 loss: -4.921392869753763\n",
      "  batch 1800 loss: -4.830743161700666\n",
      "  batch 2000 loss: -4.78472688421607\n",
      "  batch 2200 loss: -4.927742696385831\n",
      "  batch 2400 loss: -5.101458760425448\n",
      "LOSS train -5.10146 valid -4.45650\n",
      "EPOCH 23:\n",
      "  batch 200 loss: -4.980808965712786\n",
      "  batch 400 loss: -4.767228276655078\n",
      "  batch 600 loss: -4.895119075849652\n",
      "  batch 800 loss: -5.064246464669704\n",
      "  batch 1000 loss: -5.003184847459197\n",
      "  batch 1200 loss: -4.767147084390745\n",
      "  batch 1400 loss: -4.879512618109584\n",
      "  batch 1600 loss: -4.971191546320915\n",
      "  batch 1800 loss: -5.216389330029488\n",
      "  batch 2000 loss: -4.70022484831512\n",
      "  batch 2200 loss: -5.041976081319153\n",
      "  batch 2400 loss: -5.001366065591574\n",
      "LOSS train -5.00137 valid -3.07509\n",
      "EPOCH 24:\n",
      "  batch 200 loss: -4.90317622281611\n",
      "  batch 400 loss: -4.974899989888072\n",
      "  batch 600 loss: -4.805823503062129\n",
      "  batch 800 loss: -4.92934434980154\n",
      "  batch 1000 loss: -5.09899108575657\n",
      "  batch 1200 loss: -4.66863282289356\n",
      "  batch 1400 loss: -4.959239939525723\n",
      "  batch 1600 loss: -4.854525467343628\n",
      "  batch 1800 loss: -4.698925100900233\n",
      "  batch 2000 loss: -5.015823989585042\n",
      "  batch 2200 loss: -4.8872764284722505\n",
      "  batch 2400 loss: -4.778860892681405\n",
      "LOSS train -4.77886 valid -2.48085\n",
      "EPOCH 25:\n",
      "  batch 200 loss: -5.074853641688824\n",
      "  batch 400 loss: -5.073052214235068\n",
      "  batch 600 loss: -5.107294990606606\n",
      "  batch 800 loss: -4.8069555184291675\n",
      "  batch 1000 loss: -4.896507895924151\n",
      "  batch 1200 loss: -4.853478195890784\n",
      "  batch 1400 loss: -4.990984099730849\n",
      "  batch 1600 loss: -4.866211485397071\n",
      "  batch 1800 loss: -4.904953487552702\n",
      "  batch 2000 loss: -4.661320412606001\n",
      "  batch 2200 loss: -4.876125425174832\n",
      "  batch 2400 loss: -5.092471218407154\n",
      "LOSS train -5.09247 valid -3.26412\n",
      "EPOCH 26:\n",
      "  batch 200 loss: -4.750101825334132\n",
      "  batch 400 loss: -4.9554846957325935\n",
      "  batch 600 loss: -4.880680802762509\n",
      "  batch 800 loss: -4.781528469584882\n",
      "  batch 1000 loss: -5.003606890439987\n",
      "  batch 1200 loss: -4.800977966794744\n",
      "  batch 1400 loss: -5.034084941260517\n",
      "  batch 1600 loss: -5.1825775691494345\n",
      "  batch 1800 loss: -4.8695606844127175\n",
      "  batch 2000 loss: -5.037688550055027\n",
      "  batch 2200 loss: -5.017513616085052\n",
      "  batch 2400 loss: -4.909023993015289\n",
      "LOSS train -4.90902 valid -2.98872\n",
      "EPOCH 27:\n",
      "  batch 200 loss: -4.978809540569782\n",
      "  batch 400 loss: -4.96569176197052\n",
      "  batch 600 loss: -4.995158670982346\n",
      "  batch 800 loss: -5.0701770836114886\n",
      "  batch 1000 loss: -5.048502247333527\n",
      "  batch 1200 loss: -5.004658917486668\n",
      "  batch 1400 loss: -5.020426449375227\n",
      "  batch 1600 loss: -5.221598950996995\n",
      "  batch 1800 loss: -4.788718155734241\n",
      "  batch 2000 loss: -4.840327540263534\n",
      "  batch 2200 loss: -4.899324732925743\n",
      "  batch 2400 loss: -5.00665374904871\n",
      "LOSS train -5.00665 valid -3.05444\n",
      "EPOCH 28:\n",
      "  batch 200 loss: -5.083520588353276\n",
      "  batch 400 loss: -5.045610053911805\n",
      "  batch 600 loss: -5.0034637309610845\n",
      "  batch 800 loss: -4.883794304654002\n",
      "  batch 1000 loss: -5.097076015248895\n",
      "  batch 1200 loss: -5.024680951982736\n",
      "  batch 1400 loss: -4.837466019839049\n",
      "  batch 1600 loss: -5.060219043940306\n",
      "  batch 1800 loss: -4.995755060557276\n",
      "  batch 2000 loss: -5.072078455537557\n",
      "  batch 2200 loss: -5.054972120658494\n",
      "  batch 2400 loss: -4.966717661619186\n",
      "LOSS train -4.96672 valid -4.75994\n",
      "EPOCH 29:\n",
      "  batch 200 loss: -4.951341038495302\n",
      "  batch 400 loss: -4.79555350812152\n",
      "  batch 600 loss: -5.16416949659586\n",
      "  batch 800 loss: -5.196632100865245\n",
      "  batch 1000 loss: -5.188528354540467\n",
      "  batch 1200 loss: -5.094352424331009\n",
      "  batch 1400 loss: -5.079404782354832\n",
      "  batch 1600 loss: -5.089531794637441\n",
      "  batch 1800 loss: -5.06853058906272\n",
      "  batch 2000 loss: -4.941022941358387\n",
      "  batch 2200 loss: -4.922381961047649\n",
      "  batch 2400 loss: -5.061355801299214\n",
      "LOSS train -5.06136 valid -2.26212\n",
      "EPOCH 30:\n",
      "  batch 200 loss: -5.246907643899322\n",
      "  batch 400 loss: -5.21310306334868\n",
      "  batch 600 loss: -5.000008980259299\n",
      "  batch 800 loss: -4.971609214246273\n",
      "  batch 1000 loss: -5.016616318589076\n",
      "  batch 1200 loss: -4.987017384059727\n",
      "  batch 1400 loss: -4.872192905023694\n",
      "  batch 1600 loss: -5.052467003911733\n",
      "  batch 1800 loss: -5.139684908241033\n",
      "  batch 2000 loss: -5.028919922830537\n",
      "  batch 2200 loss: -5.063094076681882\n",
      "  batch 2400 loss: -5.005308310706169\n",
      "LOSS train -5.00531 valid -4.11193\n"
     ]
    },
    {
     "data": {
      "image/png": "[encoded data removed]",
      "text/plain": [
       "<Figure size 432x288 with 1 Axes>"
      ]
     },
     "metadata": {
      "needs_background": "light"
     },
     "output_type": "display_data"
    }
   ],
   "source": [
    "train_celeba = datasets.CelebA(root='./data', split=\"train\", download=False, transform=transforms.Compose([transforms.Resize([32,32]), \n",
    "                                                       transforms.ToTensor()]))\n",
    "\n",
    "val_celeba = datasets.CelebA(root='./data', split=\"valid\", download=False, transform=transforms.Compose([transforms.Resize([32,32]), \n",
    "                                                       transforms.ToTensor()]))\n",
    "\n",
    "test_celeba = datasets.CelebA(root='./data', split=\"test\", download=False, transform=transforms.Compose([transforms.Resize([32,32]), \n",
    "                                                       transforms.ToTensor()]))\n",
    "train_celeba_loader = DataLoader(dataset=train_celeba, shuffle=True, batch_size=64)\n",
    "val_celeba_loader = DataLoader(dataset=val_celeba, shuffle=False, batch_size=64)\n",
    "test_celeba_loader = DataLoader(dataset=test_celeba, shuffle=False, batch_size=64)\n",
    "\n",
    "ConvCNP_celeba = GridConvCNP(1,3,11,9,5,2,128,4)\n",
    "best_ConvCNP_celeba_path=train_2d(model = ConvCNP_celeba,  train_loader=train_celeba_loader, \n",
    "                val_loader = val_celeba_loader, a = 0.0, b= 0.3, epochs=30, report_interval=200)"
   ]
  },
  {
   "cell_type": "code",
   "execution_count": 95,
   "metadata": {},
   "outputs": [
    {
     "name": "stdout",
     "output_type": "stream",
     "text": [
      "tensor(False)\n",
      "torch.Size([1, 3, 32, 32])\n"
     ]
    },
    {
     "name": "stderr",
     "output_type": "stream",
     "text": [
      "Clipping input data to the valid range for imshow with RGB data ([0..1] for floats or [0..255] for integers).\n"
     ]
    },
    {
     "data": {
      "image/png": "[encoded data removed]",
      "text/plain": [
       "<Figure size 720x720 with 12 Axes>"
      ]
     },
     "metadata": {},
     "output_type": "display_data"
    }
   ],
   "source": [
    "from data.mask_generator import GetBatchMask\n",
    "ConvCNP_celeba.eval()\n",
    "masker_10 = GetBatchMask(a=10, b=10)\n",
    "masker_30 = GetBatchMask(a=30, b=30)\n",
    "masker_100 = GetBatchMask(a=100, b=100)\n",
    "masker_784 = GetBatchMask(a=784, b=784)\n",
    "mask_10 = masker_10(1,(32,32), is_same_mask=True)\n",
    "mask_30 = masker_30(1,(32,32), is_same_mask=True)\n",
    "mask_100 = masker_100(1,(32,32), is_same_mask=True)\n",
    "mask_784 = masker_784(1,(32,32), is_same_mask=True)\n",
    "\n",
    "single_img = test_celeba[2903][0].unsqueeze(0)\n",
    "\n",
    "\n",
    "\n",
    "with torch.no_grad():\n",
    "    mean_10, std_10,_ =  ConvCNP_celeba(single_img.to(device), mask_10.to(device))\n",
    "    mean_30, std_30,_ =  ConvCNP_celeba(single_img.to(device), mask_30.to(device))\n",
    "    mean_100, std_100,_ =  ConvCNP_celeba(single_img.to(device), mask_100.to(device))\n",
    "    mean_784, std_784,_ =  ConvCNP_celeba(single_img.to(device), mask_784.to(device))\n",
    "    mean_10, std_10 = mean_10.detach().cpu(), std_10.detach().cpu()\n",
    "    mean_30, std_30 = mean_30.detach().cpu(), std_30.detach().cpu()\n",
    "    mean_100, std_100 = mean_100.detach().cpu(), std_100.detach().cpu()\n",
    "    mean_784, std_784 = mean_784.detach().cpu(), std_784.detach().cpu()\n",
    "    \n",
    "    print((mean_100>1).any())\n",
    "    \n",
    "    masked_10 = single_img.clone()\n",
    "    masked_10[(mask_10.expand_as(masked_10))==0.0] = np.NaN\n",
    "    print(masked_10.shape)\n",
    "    masked_30 = single_img.clone()\n",
    "    masked_30[(mask_30.expand_as(masked_30))==0.0] = np.NaN\n",
    "    masked_100 = single_img.clone()\n",
    "    masked_100[(mask_100.expand_as(masked_100))==0.0] = np.NaN\n",
    "    masked_784 = single_img.clone()\n",
    "    masked_784[(mask_784.expand_as(masked_784))==0.0] = np.NaN\n",
    "    f, axe = plt.subplots(3,4,figsize=(10,10))\n",
    "    axe[0,0].imshow(masked_10.permute(0,2,3,1).squeeze(0))\n",
    "    axe[0,0].xaxis.set_tick_params(labelbottom=False)\n",
    "    axe[0,0].yaxis.set_tick_params(labelleft=False)\n",
    "    axe[0,0].set_xticks([])\n",
    "    axe[0,0].set_yticks([])\n",
    "    axe[0,0].patch.set_facecolor('black')\n",
    "    axe[0,0].set_title(\"10\")\n",
    "    axe[0,0].set_ylabel(\"Context\")\n",
    "    axe[0,1].imshow(masked_30.permute(0,2,3,1).squeeze(0))\n",
    "    axe[0,1].xaxis.set_tick_params(labelbottom=False)\n",
    "    axe[0,1].yaxis.set_tick_params(labelleft=False)\n",
    "    axe[0,1].set_xticks([])\n",
    "    axe[0,1].set_yticks([])\n",
    "    axe[0,1].patch.set_facecolor('black')\n",
    "    axe[0,1].set_title(\"30\")\n",
    "    axe[0,2].imshow(masked_100.permute(0,2,3,1).squeeze(0))\n",
    "    axe[0,2].xaxis.set_tick_params(labelbottom=False)\n",
    "    axe[0,2].yaxis.set_tick_params(labelleft=False)\n",
    "    axe[0,2].set_xticks([])\n",
    "    axe[0,2].set_yticks([])\n",
    "    axe[0,2].patch.set_facecolor('black')\n",
    "    axe[0,2].set_title(\"100\")\n",
    "    axe[0,3].imshow(masked_784.permute(0,2,3,1).squeeze(0))\n",
    "    axe[0,3].xaxis.set_tick_params(labelbottom=False)\n",
    "    axe[0,3].yaxis.set_tick_params(labelleft=False)\n",
    "    axe[0,3].set_xticks([])\n",
    "    axe[0,3].set_yticks([])\n",
    "    axe[0,3].patch.set_facecolor('black')\n",
    "    axe[0,3].set_title(\"784\")\n",
    "    axe[1,0].imshow(mean_10.squeeze(0))\n",
    "    axe[1,0].xaxis.set_tick_params(labelbottom=False)\n",
    "    axe[1,0].yaxis.set_tick_params(labelleft=False)\n",
    "    axe[1,0].set_xticks([])\n",
    "    axe[1,0].set_yticks([])\n",
    "    axe[1,0].set_ylabel(\"Mean\")\n",
    "    axe[1,1].imshow(mean_30.squeeze(0))\n",
    "    axe[1,1].xaxis.set_tick_params(labelbottom=False)\n",
    "    axe[1,1].yaxis.set_tick_params(labelleft=False)\n",
    "    axe[1,1].set_xticks([])\n",
    "    axe[1,1].set_yticks([])\n",
    "    axe[1,2].imshow(mean_100.squeeze(0))\n",
    "    axe[1,2].xaxis.set_tick_params(labelbottom=False)\n",
    "    axe[1,2].yaxis.set_tick_params(labelleft=False)\n",
    "    axe[1,2].set_xticks([])\n",
    "    axe[1,2].set_yticks([])\n",
    "    axe[1,3].imshow(mean_784.squeeze(0))\n",
    "    axe[1,3].xaxis.set_tick_params(labelbottom=False)\n",
    "    axe[1,3].yaxis.set_tick_params(labelleft=False)\n",
    "    axe[1,3].set_xticks([])\n",
    "    axe[1,3].set_yticks([])\n",
    "    axe[2,0].imshow((std_10.squeeze(0)))\n",
    "    axe[2,0].xaxis.set_tick_params(labelbottom=False)\n",
    "    axe[2,0].yaxis.set_tick_params(labelleft=False)\n",
    "    axe[2,0].set_xticks([])\n",
    "    axe[2,0].set_yticks([])\n",
    "    axe[2,0].set_ylabel(\"Std\")\n",
    "    axe[2,1].imshow((std_30.squeeze(0)))\n",
    "    axe[2,1].xaxis.set_tick_params(labelbottom=False)\n",
    "    axe[2,1].yaxis.set_tick_params(labelleft=False)\n",
    "    axe[2,1].set_xticks([])\n",
    "    axe[2,1].set_yticks([])\n",
    "    axe[2,2].imshow((std_100.squeeze(0)))\n",
    "    axe[2,2].xaxis.set_tick_params(labelbottom=False)\n",
    "    axe[2,2].yaxis.set_tick_params(labelleft=False)\n",
    "    axe[2,2].set_xticks([])\n",
    "    axe[2,2].set_yticks([])\n",
    "    axe[2,3].imshow((std_784.squeeze(0)))\n",
    "    axe[2,3].xaxis.set_tick_params(labelbottom=False)\n",
    "    axe[2,3].yaxis.set_tick_params(labelleft=False)\n",
    "    axe[2,3].set_xticks([])\n",
    "    axe[2,3].set_yticks([])\n",
    "    \n",
    "    \n",
    "\n"
   ]
  },
  {
   "cell_type": "code",
   "execution_count": 112,
   "metadata": {},
   "outputs": [
    {
     "name": "stdout",
     "output_type": "stream",
     "text": [
      "tensor(False)\n",
      "torch.Size([1, 1, 32, 32])\n"
     ]
    },
    {
     "data": {
      "image/png": "[encoded data removed]",
      "text/plain": [
       "<Figure size 720x720 with 12 Axes>"
      ]
     },
     "metadata": {},
     "output_type": "display_data"
    }
   ],
   "source": [
    "ConvCNP_mnist = GridConvCNP(1,1,11,9,5,2,128,4)\n",
    "ConvCNP_mnist.load_state_dict(torch.load(\"checkpoint/GridConvCNP_MNIST/model_30_GridConvCNP_MNIST\"))\n",
    "ConvCNP_mnist.to(device)\n",
    "ConvCNP_mnist.eval()\n",
    "masker_10 = GetBatchMask(a=10, b=10)\n",
    "masker_30 = GetBatchMask(a=30, b=30)\n",
    "masker_100 = GetBatchMask(a=100, b=100)\n",
    "masker_784 = GetBatchMask(a=784, b=784)\n",
    "mask_10 = masker_10(1,(32,32), is_same_mask=True)\n",
    "mask_30 = masker_30(1,(32,32), is_same_mask=True)\n",
    "mask_100 = masker_100(1,(32,32), is_same_mask=True)\n",
    "mask_784 = masker_784(1,(32,32), is_same_mask=True)\n",
    "\n",
    "single_img = test_mnist[1507][0].unsqueeze(0)\n",
    "\n",
    "\n",
    "\n",
    "with torch.no_grad():\n",
    "    mean_10, std_10,_ =  ConvCNP_mnist(single_img.to(device), mask_10.to(device))\n",
    "    mean_30, std_30,_ =  ConvCNP_mnist(single_img.to(device), mask_30.to(device))\n",
    "    mean_100, std_100,_ =  ConvCNP_mnist(single_img.to(device), mask_100.to(device))\n",
    "    mean_784, std_784,_ =  ConvCNP_mnist(single_img.to(device), mask_784.to(device))\n",
    "    mean_10, std_10 = mean_10.detach().cpu(), std_10.detach().cpu()\n",
    "    mean_30, std_30 = mean_30.detach().cpu(), std_30.detach().cpu()\n",
    "    mean_100, std_100 = mean_100.detach().cpu(), std_100.detach().cpu()\n",
    "    mean_784, std_784 = mean_784.detach().cpu(), std_784.detach().cpu()\n",
    "    \n",
    "    print((mean_100>1).any())\n",
    "    \n",
    "    masked_10 = single_img.clone()\n",
    "    masked_10[(mask_10.expand_as(masked_10))==0.0] = np.NaN\n",
    "    print(masked_10.shape)\n",
    "    masked_30 = single_img.clone()\n",
    "    masked_30[(mask_30.expand_as(masked_30))==0.0] = np.NaN\n",
    "    masked_100 = single_img.clone()\n",
    "    masked_100[(mask_100.expand_as(masked_100))==0.0] = np.NaN\n",
    "    masked_784 = single_img.clone()\n",
    "    masked_784[(mask_784.expand_as(masked_784))==0.0] = np.NaN\n",
    "    f, axe = plt.subplots(3,4,figsize=(10,10))\n",
    "    axe[0,0].imshow(masked_10.permute(0,2,3,1).squeeze(0), cmap=\"gray\")\n",
    "    axe[0,0].xaxis.set_tick_params(labelbottom=False)\n",
    "    axe[0,0].yaxis.set_tick_params(labelleft=False)\n",
    "    axe[0,0].set_xticks([])\n",
    "    axe[0,0].set_yticks([])\n",
    "    axe[0,0].patch.set_facecolor('blue')\n",
    "    axe[0,0].set_title(\"10\")\n",
    "    axe[0,0].set_ylabel(\"Context\")\n",
    "    axe[0,1].imshow(masked_30.permute(0,2,3,1).squeeze(0), cmap=\"gray\")\n",
    "    axe[0,1].xaxis.set_tick_params(labelbottom=False)\n",
    "    axe[0,1].yaxis.set_tick_params(labelleft=False)\n",
    "    axe[0,1].set_xticks([])\n",
    "    axe[0,1].set_yticks([])\n",
    "    axe[0,1].patch.set_facecolor('blue')\n",
    "    axe[0,1].set_title(\"30\")\n",
    "    axe[0,2].imshow(masked_100.permute(0,2,3,1).squeeze(0) , cmap=\"gray\")\n",
    "    axe[0,2].xaxis.set_tick_params(labelbottom=False)\n",
    "    axe[0,2].yaxis.set_tick_params(labelleft=False)\n",
    "    axe[0,2].set_xticks([])\n",
    "    axe[0,2].set_yticks([])\n",
    "    axe[0,2].patch.set_facecolor('blue')\n",
    "    axe[0,2].set_title(\"100\")\n",
    "    axe[0,3].imshow(masked_784.permute(0,2,3,1).squeeze(0), cmap=\"gray\")\n",
    "    axe[0,3].xaxis.set_tick_params(labelbottom=False)\n",
    "    axe[0,3].yaxis.set_tick_params(labelleft=False)\n",
    "    axe[0,3].set_xticks([])\n",
    "    axe[0,3].set_yticks([])\n",
    "    axe[0,3].patch.set_facecolor('blue')\n",
    "    axe[0,3].set_title(\"784\")\n",
    "    axe[1,0].imshow(mean_10.squeeze(0), cmap=\"gray\")\n",
    "    axe[1,0].xaxis.set_tick_params(labelbottom=False)\n",
    "    axe[1,0].yaxis.set_tick_params(labelleft=False)\n",
    "    axe[1,0].set_xticks([])\n",
    "    axe[1,0].set_yticks([])\n",
    "    axe[1,0].set_ylabel(\"Mean\")\n",
    "    axe[1,1].imshow(mean_30.squeeze(0), cmap=\"gray\")\n",
    "    axe[1,1].xaxis.set_tick_params(labelbottom=False)\n",
    "    axe[1,1].yaxis.set_tick_params(labelleft=False)\n",
    "    axe[1,1].set_xticks([])\n",
    "    axe[1,1].set_yticks([])\n",
    "    axe[1,2].imshow(mean_100.squeeze(0), cmap=\"gray\")\n",
    "    axe[1,2].xaxis.set_tick_params(labelbottom=False)\n",
    "    axe[1,2].yaxis.set_tick_params(labelleft=False)\n",
    "    axe[1,2].set_xticks([])\n",
    "    axe[1,2].set_yticks([])\n",
    "    axe[1,3].imshow(mean_784.squeeze(0), cmap=\"gray\")\n",
    "    axe[1,3].xaxis.set_tick_params(labelbottom=False)\n",
    "    axe[1,3].yaxis.set_tick_params(labelleft=False)\n",
    "    axe[1,3].set_xticks([])\n",
    "    axe[1,3].set_yticks([])\n",
    "    axe[2,0].imshow((std_10.squeeze(0)), cmap=\"gray\")\n",
    "    axe[2,0].xaxis.set_tick_params(labelbottom=False)\n",
    "    axe[2,0].yaxis.set_tick_params(labelleft=False)\n",
    "    axe[2,0].set_xticks([])\n",
    "    axe[2,0].set_yticks([])\n",
    "    axe[2,0].set_ylabel(\"Std\")\n",
    "    axe[2,1].imshow((std_30.squeeze(0)), cmap=\"gray\")\n",
    "    axe[2,1].xaxis.set_tick_params(labelbottom=False)\n",
    "    axe[2,1].yaxis.set_tick_params(labelleft=False)\n",
    "    axe[2,1].set_xticks([])\n",
    "    axe[2,1].set_yticks([])\n",
    "    axe[2,2].imshow((std_100.squeeze(0)), cmap=\"gray\")\n",
    "    axe[2,2].xaxis.set_tick_params(labelbottom=False)\n",
    "    axe[2,2].yaxis.set_tick_params(labelleft=False)\n",
    "    axe[2,2].set_xticks([])\n",
    "    axe[2,2].set_yticks([])\n",
    "    axe[2,3].imshow((std_784.squeeze(0)), cmap=\"gray\")\n",
    "    axe[2,3].xaxis.set_tick_params(labelbottom=False)\n",
    "    axe[2,3].yaxis.set_tick_params(labelleft=False)\n",
    "    axe[2,3].set_xticks([])\n",
    "    axe[2,3].set_yticks([])\n",
    "    "
   ]
  }
 ],
 "metadata": {
  "accelerator": "GPU",
  "colab": {
   "provenance": []
  },
  "gpuClass": "standard",
  "kernelspec": {
   "display_name": "Python 3 (ipykernel)",
   "language": "python",
   "name": "python3"
  },
  "language_info": {
   "codemirror_mode": {
    "name": "ipython",
    "version": 3
   },
   "file_extension": ".py",
   "mimetype": "text/x-python",
   "name": "python",
   "nbconvert_exporter": "python",
   "pygments_lexer": "ipython3",
   "version": "3.8.10"
  },
  "vscode": {
   "interpreter": {
    "hash": "a107914fc340247381b499dda307a9d59455eb5df90543ee7392a8714e7216fb"
   }
  }
 },
 "nbformat": 4,
 "nbformat_minor": 4
}
